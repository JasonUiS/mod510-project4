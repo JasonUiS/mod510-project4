{
 "cells": [
  {
   "cell_type": "markdown",
   "metadata": {},
   "source": [
    "# Project 4"
   ]
  },
  {
   "cell_type": "markdown",
   "metadata": {},
   "source": [
    "## Random walking dead"
   ]
  },
  {
   "cell_type": "markdown",
   "metadata": {},
   "source": [
    "\n",
    "## Group 1 9:\n",
    "\n",
    "- Mussa Banjai\n",
    "- Tapas Dev\n",
    "- Jason Kapka\n",
    "- Taz Ahmed"
   ]
  },
  {
   "cell_type": "markdown",
   "metadata": {},
   "source": [
    "## Introduction\n",
    "\n"
   ]
  },
  {
   "cell_type": "markdown",
   "metadata": {},
   "source": [
    "## Abstract\n",
    "\n"
   ]
  },
  {
   "cell_type": "markdown",
   "metadata": {},
   "source": [
    "## Libraries"
   ]
  },
  {
   "cell_type": "code",
   "execution_count": 1,
   "metadata": {},
   "outputs": [],
   "source": [
    "import numpy as np\n",
    "import numba as nb\n",
    "import matplotlib.pyplot as plt\n",
    "import matplotlib.gridspec as gridspec\n",
    "import math as m\n",
    "import scipy as sp\n",
    "from scipy import optimize\n",
    "import pandas as pd\n",
    "import scipy.integrate\n",
    "\n",
    "from enum import Enum # Importing the enum"
   ]
  },
  {
   "cell_type": "markdown",
   "metadata": {},
   "source": [
    "# Directions"
   ]
  },
  {
   "cell_type": "code",
   "execution_count": 2,
   "metadata": {},
   "outputs": [],
   "source": [
    "class Direction(Enum):\n",
    "\n",
    "    EAST = 1\n",
    "    NORTH = 2\n",
    "    WEST = 3\n",
    "    SOUTH = 4"
   ]
  },
  {
   "cell_type": "markdown",
   "metadata": {},
   "source": [
    "## Disease State"
   ]
  },
  {
   "cell_type": "code",
   "execution_count": 3,
   "metadata": {},
   "outputs": [],
   "source": [
    "class DiseaseState(Enum):\n",
    "\n",
    "    HUMAN = 0 # SUSCEPTIBLE = HUMAN\n",
    "    EXPOSED = 1\n",
    "    ZOMBIE = 2 #INFECTIOUS = ZOMBIE\n",
    "    IMMUNE = 3\n",
    "    DEAD = 4"
   ]
  },
  {
   "cell_type": "markdown",
   "metadata": {},
   "source": [
    "## Random Walk Epidemic Simulator class"
   ]
  },
  {
   "cell_type": "code",
   "execution_count": 18,
   "metadata": {},
   "outputs": [],
   "source": [
    "class RandomWalkEpidemicSimulator:\n",
    "    \"\"\"\n",
    "    Class used to model the spreading of a contagious disease in a\n",
    "    population of individuals with a 2D random walk.\n",
    "\n",
    "    Each walker has a disease state which is represented by an\n",
    "    integer Enum. Also, a set of integer (x, y)-coordinates are\n",
    "    stored for each walker. The possible coordinates are:\n",
    "\n",
    "        {0, 1, ..., Lx-1} in the x-direction\n",
    "        {0, 1, ..., Ly-1} in the y-direction\n",
    "\n",
    "    It is only possible to move North, South, East, or West. If a\n",
    "    walker attempts to move outside of the physical domain, nothing\n",
    "    happens (i.e., a \"bounce-back boundary condition\" is enforced).\n",
    "    \"\"\"\n",
    "    def __init__(self,\n",
    "                 population_size,\n",
    "                 #no_init_infected=1,\n",
    "                 no_initially_infected=1,\n",
    "                 nx=50,\n",
    "                 ny=50,\n",
    "                 q=0.9):\n",
    "        \"\"\"\n",
    "        :param population_size: The total number of people (N).\n",
    "        :param no_init_infected: The number of infected people at t=0.\n",
    "        :param nx: The number of lattice nodes in the x-direction\n",
    "        :param ny: The number of lattice nodes in the y-direction.\n",
    "        :param q: The probability of infection (0 <= q <= 1).\n",
    "        \"\"\"\n",
    "        self.N_ = population_size\n",
    "        self.Z0_= no_initially_infected\n",
    "        self.nx_= nx\n",
    "        self.ny_= ny\n",
    "        self.infection_probability_ = q\n",
    "\n",
    "        self.Walkers_ = np.random.randint(0, [self.nx_, self.ny_], size=(self.N_, 2))\n",
    "        self.Walkers_Old_ = self.Walkers_.copy() # in case any move is illegall, we have a old steps\n",
    "\n",
    "        # First, let all walkers be in the susceptible compartment:\n",
    "        self.State_ = np.full(self.N_, DiseaseState.HUMAN.value)\n",
    "        # Next, change walker number 0, 1, 2, ..., I0-1 to be infectious:\n",
    "        self.State_[0:self.Z0_] = DiseaseState.ZOMBIE.value\n",
    "\n",
    "\n",
    "        \n",
    "\n",
    "    def move(self):\n",
    "        proposed_directions=np.random.randint(0,4,size=self.N_)\n",
    "        #step=dir_[proposed_directions]\n",
    "        \n",
    "        \n",
    "        move_east = (proposed_directions == Direction.EAST.value)\n",
    "        move_north = (proposed_directions == Direction.NORTH.value)\n",
    "        move_west = (proposed_directions == Direction.WEST.value)\n",
    "        move_south = (proposed_directions == Direction.SOUTH.value)\n",
    "\n",
    "        self.Walkers_[move_east] += [1, 0]\n",
    "        self.Walkers_[move_north] += [0, 1]\n",
    "        self.Walkers_[move_west] -= [1, 0]\n",
    "        self.Walkers_[move_south] -= [0, 1]\n",
    "\n",
    "\n",
    "        self.Walkers_Old_ = self.Walkers_.copy()\n",
    "\n",
    "\n",
    "    def is_at_illegal_position(self, idx):\n",
    "        \"\"\"\n",
    "        Checks if it is out of position\n",
    "        \"\"\"\n",
    "        if idx < 0 or idx > self.nx_  or idx > self.ny_:\n",
    "            return False\n",
    "        return True\n",
    "    \n",
    "\n",
    "    def collide_extremely_slowly(self): # note: class (instance) function\n",
    "        '''\n",
    "        Note: SUSCEPTIBLE = HUMAN, and INFECTIOUS = ZOMBIE\n",
    "        This code is so slow that it will be impractical to use in the full project.\n",
    "        You can use it to test your code. HINT: Try to use np.logical_and to find humans\n",
    "        at\tthe same place as zombies, instead of the loop: for walker_idx in range(self.N_):\n",
    "        '''\n",
    "\n",
    "        # Get (x,y)-coordinates of susceptibles & infectious people\n",
    "        S_coord = self.Walkers_[self.State_== DiseaseState.HUMAN.value]\n",
    "        I_coord = self.Walkers_[self.State_ == DiseaseState.ZOMBIE.value]\n",
    "\n",
    "        no_infected = len(I_coord)\n",
    "        for infected_idx in range(no_infected):\n",
    "            \"loop\"\n",
    "            for walker_idx in range(self.N_):\n",
    "                walker_is_susceptible = (self.State_[walker_idx] == DiseaseState.HUMAN.value)\n",
    "                infected_at_same_location = np.all(I_coord[infected_idx] == self.Walkers_[walker_idx])\n",
    "                \n",
    "                if walker_is_susceptible and infected_at_same_location:\n",
    "                    q = np.random.uniform(0, 1)\n",
    "                    if q < self.infection_probability_:\n",
    "                        self.State_[walker_idx] = DiseaseState.ZOMBIE.value\n",
    "\n",
    "    def collide_much_much_faster(self):\n",
    "        '''\n",
    "        Calculates interaction between Zombies and Walkers (class implementation)\n",
    "        '''\n",
    "        Z_coord = self.Walkers_[self.State_ == DiseaseState.ZOMBIE.value]\n",
    "        for infected_idx in Z_coord: # loop over all zombies\n",
    "            # compare x and y coordinate of one zombie and all Walkers to\n",
    "            # find which are in the same place\n",
    "            infected_at_same_location_xy = np.logical_and(infected_idx[0]==self.Walkers_[:,0],infected_idx[1]==self.Walkers_[:,1])\n",
    "            \n",
    "            # infected_at_same_location_xy contains a list of True/False of all\n",
    "            # Walkers at the same/not the same place (both Humans and Zombies)\n",
    "            # get the index to the Walkers, needed to update state (note the [0] at the end)\n",
    "            id_walkers_at_same_location = np.where(infected_at_same_location_xy)[0]\n",
    "            for walkers_id in id_walkers_at_same_location:\n",
    "                if self.State_[walkers_id] == DiseaseState.HUMAN.value:\n",
    "                    q = np.random.uniform(0, 1)\n",
    "                    if q < self.infection_probability_:\n",
    "                        self.State_[walkers_id] = DiseaseState.ZOMBIE.value\n",
    "\n",
    "\n",
    "    def plot(self):\n",
    "        Z_coord= self.Walkers_[self.State_== DiseaseState.ZOMBIE.value]\n",
    "        H_coord= self.Walkers_[self.State_==DiseaseState.HUMAN.value]\n",
    "        plt.scatter(Z_coord[:,0],Z_coord[:,1],s=80,c='r')\n",
    "        plt.scatter(H_coord[:,0],H_coord[:,1],c='b')\n",
    "        plt.xlim(0,self.nx_)\n",
    "        plt.ylim(0,self.ny_)\n",
    "        plt.grid()\n",
    "        plt.show()\n",
    "        plt.close()\n",
    "\n",
    "\n",
    "    def stats(self):\n",
    "        no_susceptible = np.sum(self.State_ == DiseaseState.HUMAN.value)\n",
    "        no_infectious = np.sum(self.State_ == DiseaseState.ZOMBIE.value)\n",
    "        no_recovered = np.sum(self.State_ == DiseaseState.DEAD.value)\n",
    "\n",
    "        return f\"Susceptibles: {no_susceptible}\\nInfectious: {no_infectious}\\nRecovered: {no_recovered}\""
   ]
  },
  {
   "cell_type": "code",
   "execution_count": 19,
   "metadata": {},
   "outputs": [
    {
     "data": {
      "image/png": "[encoded data removed]",
      "text/plain": [
       "<Figure size 640x480 with 1 Axes>"
      ]
     },
     "metadata": {},
     "output_type": "display_data"
    },
    {
     "data": {
      "image/png": "[encoded data removed]",
      "text/plain": [
       "<Figure size 640x480 with 1 Axes>"
      ]
     },
     "metadata": {},
     "output_type": "display_data"
    }
   ],
   "source": [
    "r683 = RandomWalkEpidemicSimulator(10, 1, 50, 50, 9.9)\n",
    "r683.plot()\n",
    "r683.move()\n",
    "r683.plot()"
   ]
  },
  {
   "cell_type": "code",
   "execution_count": 11,
   "metadata": {},
   "outputs": [
    {
     "name": "stdout",
     "output_type": "stream",
     "text": [
      "[[16 49]\n",
      " [30 34]\n",
      " [10 20]\n",
      " [32 23]\n",
      " [ 7  4]]\n",
      "[2 0 0 0 0]\n",
      "[[16 49]\n",
      " [30 34]\n",
      " [16 49]\n",
      " [32 23]\n",
      " [ 7  4]]\n",
      "[2 0 2 0 0]\n"
     ]
    }
   ],
   "source": [
    "r = RandomWalkEpidemicSimulator(5)\n",
    "print(r.Walkers_)\n",
    "print(r.State_)\n",
    "r.Walkers_[2] = r.Walkers_[0]\n",
    "print(r.Walkers_)\n",
    "r.collide_much_much_faster()\n",
    "print(r.State_)\n",
    "\n"
   ]
  },
  {
   "cell_type": "markdown",
   "metadata": {},
   "source": [
    "# Exercises"
   ]
  },
  {
   "cell_type": "markdown",
   "metadata": {},
   "source": [
    "## Exercise 1: Random walk SZ-model"
   ]
  },
  {
   "cell_type": "markdown",
   "metadata": {},
   "source": [
    "Check the class"
   ]
  },
  {
   "cell_type": "markdown",
   "metadata": {},
   "source": [
    "### Question 1\n",
    "\n",
    "**Answer:**"
   ]
  },
  {
   "cell_type": "markdown",
   "metadata": {},
   "source": [
    "### Question 2\n",
    "\n",
    "**Answer:**"
   ]
  },
  {
   "cell_type": "markdown",
   "metadata": {},
   "source": [
    "<!---->"
   ]
  },
  {
   "cell_type": "markdown",
   "metadata": {},
   "source": [
    "## Exercise 2: Compare random walk and ODE-based models"
   ]
  },
  {
   "cell_type": "markdown",
   "metadata": {},
   "source": [
    "### Question 1\n",
    "\n",
    "**Answer:**"
   ]
  },
  {
   "cell_type": "markdown",
   "metadata": {},
   "source": [
    "## Exercise 3: Scenario what happens in Sokndal and Dirdal?"
   ]
  },
  {
   "cell_type": "markdown",
   "metadata": {},
   "source": [
    "### Question 1\n",
    "\n",
    "**Answer:**"
   ]
  },
  {
   "cell_type": "markdown",
   "metadata": {},
   "source": [
    "### Question 2\n",
    "\n",
    "**Answer:**"
   ]
  },
  {
   "cell_type": "markdown",
   "metadata": {},
   "source": [
    "## Exercise 4: Compare your results with SZR model"
   ]
  },
  {
   "cell_type": "markdown",
   "metadata": {},
   "source": [
    "## Exercise 5: Implement your own scenario"
   ]
  },
  {
   "cell_type": "markdown",
   "metadata": {},
   "source": [
    "## Reflections\n",
    "\n",
    "### How did we work?\n",
    "Basically, we worked on project in the group room, alongside with the lab classes which helped us a lot to discuss about the problems as well as finding the solution. We worked together even if any of us find any solution then we discussed about this and then came to a proper solution which looked like a good way of learning for us. Before finalizing any problem's solution, we together ended up with a good solution and agreed upon that.\n",
    "\n",
    "Jason created some initial coding and worked on finding the solutions to the problem in theoretical matter. Taz and Tapas worked also on the theorectical matter proofs final Python code. Mussa wrote large sections of Python code and acted as Project Manager by compiling the individual contributions into a final product.\n",
    "\n",
    "\n",
    "### What we did in the project?\n",
    "We evaluated the analtical, numerical and line-source solution with two different boundary conditions and also found out the error between them by visuallizing the graphs. Then we matched our well test data from the provided file.\n",
    "\n",
    "### Our Learnings?\n",
    "We learnt the implementation of different numerical solvers for the radial deffusivity equation. We also learnt about PressureSolver Class. Besides, we also came across the learning of using two different boundary conditions. Although we did struggle in some stages but this project will help us in near future.future."
   ]
  },
  {
   "cell_type": "markdown",
   "metadata": {},
   "source": [
    "\n",
    "## Conclusion\n",
    "\n"
   ]
  },
  {
   "cell_type": "markdown",
   "metadata": {},
   "source": [
    "## References\n",
    "\n",
    "1) Aksel Hiorth. Computational Engineering and Modeling, 2021\n",
    "   https://github.com/ahiorth/CompEngineering"
   ]
  }
 ],
 "metadata": {
  "kernelspec": {
   "display_name": "MOD510",
   "language": "python",
   "name": "python3"
  },
  "language_info": {
   "codemirror_mode": {
    "name": "ipython",
    "version": 3
   },
   "file_extension": ".py",
   "mimetype": "text/x-python",
   "name": "python",
   "nbconvert_exporter": "python",
   "pygments_lexer": "ipython3",
   "version": "3.11.4"
  },
  "orig_nbformat": 4
 },
 "nbformat": 4,
 "nbformat_minor": 2
}
