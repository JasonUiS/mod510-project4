{
 "cells": [
  {
   "cell_type": "markdown",
   "metadata": {},
   "source": [
    "# Project 4"
   ]
  },
  {
   "cell_type": "markdown",
   "metadata": {},
   "source": [
    "## Random walking dead"
   ]
  },
  {
   "cell_type": "markdown",
   "metadata": {},
   "source": [
    "\n",
    "## Group 1 9:\n",
    "\n",
    "- Mussa Banjai\n",
    "- Tapas Dev\n",
    "- Jason Kapka\n",
    "- Taz Ahmed"
   ]
  },
  {
   "cell_type": "markdown",
   "metadata": {},
   "source": [
    "## Introduction\n",
    "\n"
   ]
  },
  {
   "cell_type": "markdown",
   "metadata": {},
   "source": [
    "## Abstract\n",
    "\n"
   ]
  },
  {
   "cell_type": "markdown",
   "metadata": {},
   "source": [
    "## Libraries"
   ]
  },
  {
   "cell_type": "code",
   "execution_count": 37,
   "metadata": {},
   "outputs": [],
   "source": [
    "import numpy as np\n",
    "import numba as nb\n",
    "import matplotlib.pyplot as plt\n",
    "import matplotlib.gridspec as gridspec\n",
    "import math as m\n",
    "import scipy as sp\n",
    "from scipy import optimize\n",
    "import pandas as pd\n",
    "import scipy.integrate\n",
    "\n",
    "from enum import Enum # Importing the enum"
   ]
  },
  {
   "cell_type": "markdown",
   "metadata": {},
   "source": [
    "# Directions"
   ]
  },
  {
   "cell_type": "code",
   "execution_count": 38,
   "metadata": {},
   "outputs": [],
   "source": [
    "class Direction(Enum):\n",
    "\n",
    "    EAST = 1\n",
    "    NORTH = 2\n",
    "    WEST = 3\n",
    "    SOUTH = 4"
   ]
  },
  {
   "cell_type": "markdown",
   "metadata": {},
   "source": [
    "## Disease State"
   ]
  },
  {
   "cell_type": "code",
   "execution_count": 39,
   "metadata": {},
   "outputs": [],
   "source": [
    "class DiseaseState(Enum):\n",
    "\n",
    "    HUMAN = 0 # SUSCEPTIBLE = HUMAN\n",
    "    EXPOSED = 1\n",
    "    ZOMBIE = 2 #INFECTIOUS = ZOMBIE\n",
    "    IMMUNE = 3\n",
    "    DEAD = 4"
   ]
  },
  {
   "cell_type": "markdown",
   "metadata": {},
   "source": [
    "## Random Walk Epidemic Simulator class"
   ]
  },
  {
   "cell_type": "code",
   "execution_count": 51,
   "metadata": {},
   "outputs": [],
   "source": [
    "class RandomWalkEpidemicSimulator:\n",
    "    \"\"\"\n",
    "    Class used to model the spreading of a contagious disease in a\n",
    "    population of individuals with a 2D random walk.\n",
    "\n",
    "    Each walker has a disease state which is represented by an\n",
    "    integer Enum. Also, a set of integer (x, y)-coordinates are\n",
    "    stored for each walker. The possible coordinates are:\n",
    "\n",
    "        {0, 1, ..., Lx-1} in the x-direction\n",
    "        {0, 1, ..., Ly-1} in the y-direction\n",
    "\n",
    "    It is only possible to move North, South, East, or West. If a\n",
    "    walker attempts to move outside of the physical domain, nothing\n",
    "    happens (i.e., a \"bounce-back boundary condition\" is enforced).\n",
    "    \"\"\"\n",
    "    def __init__(self,\n",
    "                 population_size,\n",
    "                 no_initially_infected=1,\n",
    "                 nx=50,\n",
    "                 ny=50,\n",
    "                 q=0.9,\n",
    "                 p = 0.0,\n",
    "                 gameshow=False):\n",
    "        \"\"\"\n",
    "        :param population_size: The total number of people (N).\n",
    "        :param no_init_infected: The number of infected people at t=0.\n",
    "        :param nx: The number of lattice nodes in the x-direction\n",
    "        :param ny: The number of lattice nodes in the y-direction.\n",
    "        :param q: The probability of infection (0 <= q <= 1).\n",
    "        :param p: The probability of death (0 <= p <= 1).\n",
    "        :gameshow: It enables/disables the graph of the walkers.\n",
    "        \"\"\"\n",
    "        self.N_ = population_size\n",
    "        self.Z0_= no_initially_infected # No. of Zombies that are starting\n",
    "        self.nx_= nx\n",
    "        self.ny_= ny\n",
    "        self.infection_probability_ = q\n",
    "        self.death_probability_ = p\n",
    "        self.gameshow = gameshow\n",
    "\n",
    "\n",
    "        self.Walkers_ = np.random.randint(0, [self.nx_, self.ny_], size=(self.N_, 2))\n",
    "        self.Walkers_Old_ = self.Walkers_.copy() # in case any move is illegall, we have a old steps\n",
    "\n",
    "        # First, let all walkers be in the susceptible compartment:\n",
    "        self.State_ = np.full(self.N_, DiseaseState.HUMAN.value)\n",
    "        # Next, change walker number 0, 1, 2, ..., I0-1 to be infectious:\n",
    "        self.State_[0:self.Z0_] = DiseaseState.ZOMBIE.value\n",
    "\n",
    "        # Records\n",
    "        self.record_humans = np.array([])\n",
    "        self.record_zombies = np.array([])\n",
    "        self.record_deads = np.array([])\n",
    "\n",
    "        \n",
    "\n",
    "    def move(self):\n",
    "        \"\"\"\n",
    "        This function allows the walkers to change their position\n",
    "        \"\"\"\n",
    "        \n",
    "        proposed_directions=np.random.randint(0,4,size=self.N_) #The directions will be choosen randomly for all the walkers.\n",
    "        \n",
    "        # Directions\n",
    "        move_east = (proposed_directions == Direction.EAST.value)\n",
    "        move_north = (proposed_directions == Direction.NORTH.value)\n",
    "        move_west = (proposed_directions == Direction.WEST.value)\n",
    "        move_south = (proposed_directions == Direction.SOUTH.value)\n",
    "\n",
    "        # This will only allow Walkers that are not dead to walk\n",
    "        not_dead = (self.State_ != DiseaseState.DEAD.value)\n",
    "\n",
    "\n",
    "        self.Walkers_[move_east & not_dead] += [1, 0]\n",
    "        self.Walkers_[move_north & not_dead] += [0, 1]\n",
    "        self.Walkers_[move_west & not_dead] -= [1, 0]\n",
    "        self.Walkers_[move_south & not_dead] -= [0, 1]\n",
    "\n",
    "\n",
    "    def is_at_illegal_position(self):\n",
    "        \"\"\"\n",
    "        Checks if it is out of position\n",
    "        \"\"\"\n",
    "        wrong_x=np.logical_or(self.Walkers_[:,0]<0,self.Walkers_[:,0]>=self.nx_)\n",
    "        wrong_y=np.logical_or(self.Walkers_[:,1]<0,self.Walkers_[:,1]>=self.ny_)\n",
    "        wrong_xy=np.logical_or(wrong_x,wrong_y)\n",
    "        self.Walkers_[wrong_xy]=self.Walkers_Old_[wrong_xy]\n",
    "        \n",
    "        self.Walkers_Old_=np.copy(self.Walkers_)\n",
    "\n",
    "\n",
    "    def collide_extremely_slowly(self): # note: class (instance) function\n",
    "        '''\n",
    "        Note: SUSCEPTIBLE = HUMAN, and INFECTIOUS = ZOMBIE\n",
    "        This code is so slow that it will be impractical to use in the full project.\n",
    "        You can use it to test your code. HINT: Try to use np.logical_and to find humans\n",
    "        at\tthe same place as zombies, instead of the loop: for walker_idx in range(self.N_):\n",
    "        '''\n",
    "\n",
    "        # Get (x,y)-coordinates of susceptibles & infectious people\n",
    "        S_coord = self.Walkers_[self.State_== DiseaseState.HUMAN.value]\n",
    "        I_coord = self.Walkers_[self.State_ == DiseaseState.ZOMBIE.value]\n",
    "\n",
    "        no_infected = len(I_coord)\n",
    "        for infected_idx in range(no_infected):\n",
    "            for walker_idx in range(self.N_):\n",
    "                walker_is_susceptible = (self.State_[walker_idx] == DiseaseState.HUMAN.value)\n",
    "                infected_at_same_location = np.all(I_coord[infected_idx] == self.Walkers_[walker_idx])\n",
    "                \n",
    "                if walker_is_susceptible and infected_at_same_location:\n",
    "                    q = np.random.uniform(0, 1)\n",
    "                    if q < self.infection_probability_:\n",
    "                        self.State_[walker_idx] = DiseaseState.ZOMBIE.value\n",
    "\n",
    "    def collide_much_much_faster(self):\n",
    "        '''\n",
    "        Calculates interaction between Zombies and Walkers (class implementation)\n",
    "        '''\n",
    "        Z_coord = self.Walkers_[self.State_ == DiseaseState.ZOMBIE.value]\n",
    "        for infected_idx in Z_coord: # loop over all zombies\n",
    "            # compare x and y coordinate of one zombie and all Walkers to\n",
    "            # find which are in the same place\n",
    "            infected_at_same_location_xy = np.logical_and(infected_idx[0]==self.Walkers_[:,0],infected_idx[1]==self.Walkers_[:,1])\n",
    "            \n",
    "            # infected_at_same_location_xy contains a list of True/False of all\n",
    "            # Walkers at the same/not the same place (both Humans and Zombies)\n",
    "            # get the index to the Walkers, needed to update state (note the [0] at the end)\n",
    "            id_walkers_at_same_location = np.where(infected_at_same_location_xy)[0]\n",
    "            for walkers_id in id_walkers_at_same_location:\n",
    "                if self.State_[walkers_id] == DiseaseState.HUMAN.value:\n",
    "                    q = np.random.uniform(0, 1)\n",
    "                    if q < self.infection_probability_:\n",
    "                        self.State_[walkers_id] = DiseaseState.ZOMBIE.value\n",
    "\n",
    "    def check_if_zombies_dies(self):\n",
    "\n",
    "        # Find the index of the Zombies\n",
    "        # Loop through it \n",
    "        zombies_idx = np.where(self.State_ == DiseaseState.ZOMBIE.value)\n",
    "        for idx in zombies_idx: # loop over all zombies\n",
    "                p = np.random.uniform(0, 1)\n",
    "                if p < self.death_probability_:\n",
    "                    self.State_[idx] = DiseaseState.DEAD.value\n",
    "\n",
    "                \n",
    "\n",
    "    def game(self):\n",
    "        Z_coord= self.Walkers_[self.State_== DiseaseState.ZOMBIE.value]\n",
    "        H_coord= self.Walkers_[self.State_==DiseaseState.HUMAN.value]\n",
    "        D_coord = self.Walkers_[self.State_==DiseaseState.DEAD.value]\n",
    "        plt.scatter(Z_coord[:,0],Z_coord[:,1],s=80,c='r')\n",
    "        plt.scatter(H_coord[:,0],H_coord[:,1],c='b')\n",
    "        plt.scatter(D_coord[:,0],D_coord[:,1], marker='s', c='y')\n",
    "        plt.xlim(0,self.nx_)\n",
    "        plt.ylim(0,self.ny_)\n",
    "        plt.grid()\n",
    "        plt.show()\n",
    "\n",
    "    def record(self):\n",
    "        no_susceptible = np.sum(self.State_ == DiseaseState.HUMAN.value)\n",
    "        no_infectious = np.sum(self.State_ == DiseaseState.ZOMBIE.value)\n",
    "        no_recovered = np.sum(self.State_ == DiseaseState.DEAD.value)\n",
    "\n",
    "        self.record_humans = np.append(self.record_humans, no_susceptible)\n",
    "        self.record_zombies = np.append(self.record_zombies, no_infectious)\n",
    "        self.record_deads = np.append(self.record_deads, no_recovered)\n",
    "        \n",
    "    \n",
    "    def run(self, steps):\n",
    "        for s in range(steps):\n",
    "            if self.gameshow == True:\n",
    "                self.game()\n",
    "            self.record()\n",
    "            self.move()\n",
    "            self.is_at_illegal_position()\n",
    "            self.collide_much_much_faster()\n",
    "            self.check_if_zombies_dies()\n",
    "\n",
    "\n",
    "    def stats(self):\n",
    "        \"\"\"\n",
    "        It shows the statistics of humans, zombies and deaths\n",
    "        \"\"\"\n",
    "        new_line = \"\\n\"\n",
    "\n",
    "        no_susceptible = np.sum(self.State_ == DiseaseState.HUMAN.value)\n",
    "        no_infectious = np.sum(self.State_ == DiseaseState.ZOMBIE.value)\n",
    "        no_recovered = np.sum(self.State_ == DiseaseState.DEAD.value)\n",
    "\n",
    "        print(f\"Susceptibles: {no_susceptible}{new_line}Infectious: {no_infectious}{new_line}Recovered: {no_recovered}\")"
   ]
  },
  {
   "cell_type": "markdown",
   "metadata": {},
   "source": [
    "# Exercises"
   ]
  },
  {
   "cell_type": "markdown",
   "metadata": {},
   "source": [
    "## Exercise 1: Random walk SZ-model"
   ]
  },
  {
   "cell_type": "markdown",
   "metadata": {},
   "source": [
    "Check the class"
   ]
  },
  {
   "cell_type": "code",
   "execution_count": 103,
   "metadata": {},
   "outputs": [],
   "source": [
    "def record_humans_zombies_deads(simulations, timesteps, z_init, p = 0.0, N = 683):\n",
    "    Record_Array_Humans = []\n",
    "    Record_Array_Zombies = []\n",
    "    Record_Array_Deads = []\n",
    "\n",
    "    for n in range(simulations): # run n simulations\n",
    "        r683 = RandomWalkEpidemicSimulator(N, z_init, 50, 50, 0.9, p)\n",
    "        r683.run(timesteps)\n",
    "        Record_Array_Humans.append(r683.record_humans)\n",
    "        Record_Array_Zombies.append(r683.record_zombies)\n",
    "        Record_Array_Deads.append(r683.record_deads)\n",
    "    Record_Array_Humans = np.array(Record_Array_Humans)\n",
    "    Record_Array_Zombies = np.array(Record_Array_Zombies)\n",
    "    Record_Array_Deads = np.array(Record_Array_Deads)\n",
    "\n",
    "    return Record_Array_Humans, Record_Array_Zombies, Record_Array_Deads"
   ]
  },
  {
   "cell_type": "code",
   "execution_count": 42,
   "metadata": {},
   "outputs": [],
   "source": [
    "def plot_humans_zombies(record_humans, record_zombies):\n",
    "    hx = np.arange(np.shape(record_humans)[1])\n",
    "    hmean = np.mean(record_humans, 0) # Mean\n",
    "    hstd = np.std(record_humans, 0) # Standard Deviation\n",
    "\n",
    "    zx = np.arange(np.shape(record_zombies)[1])\n",
    "    zmean = np.mean(record_zombies, 0) # Mean\n",
    "    zstd = np.std(record_zombies, 0) # Standard Deviation\n",
    "\n",
    "    plt.title(f\"\")\n",
    "\n",
    "    plt.plot(hx, hmean, color = \"blue\", linestyle = \"--\", label = \"Susceptible - RW\") # plot the mean\n",
    "    plt.fill_between(hx, hmean - hstd, hmean + hstd, color='grey', alpha=0.5)\n",
    "\n",
    "    plt.plot(zx, zmean, color = \"red\", linestyle = \"--\", label = \"Infected - RW\") # plot the mean\n",
    "    plt.fill_between(zx, zmean - zstd, zmean + zstd, color='grey', alpha=0.5)\n",
    "\n",
    "    plt.legend()\n",
    "    plt.grid()"
   ]
  },
  {
   "cell_type": "markdown",
   "metadata": {},
   "source": [
    "### Question 1\n"
   ]
  },
  {
   "cell_type": "code",
   "execution_count": 129,
   "metadata": {},
   "outputs": [],
   "source": [
    "h, z, r = record_humans_zombies_deads(10, 400, 1)"
   ]
  },
  {
   "cell_type": "code",
   "execution_count": 127,
   "metadata": {},
   "outputs": [
    {
     "ename": "NameError",
     "evalue": "name 'h' is not defined",
     "output_type": "error",
     "traceback": [
      "\u001b[1;31m---------------------------------------------------------------------------\u001b[0m",
      "\u001b[1;31mNameError\u001b[0m                                 Traceback (most recent call last)",
      "\u001b[1;32m~\\AppData\\Local\\Temp/ipykernel_12420/3293057642.py\u001b[0m in \u001b[0;36m<module>\u001b[1;34m\u001b[0m\n\u001b[1;32m----> 1\u001b[1;33m \u001b[0mplot_humans_zombies\u001b[0m\u001b[1;33m(\u001b[0m\u001b[0mh\u001b[0m\u001b[1;33m,\u001b[0m \u001b[0mz\u001b[0m\u001b[1;33m)\u001b[0m\u001b[1;33m\u001b[0m\u001b[1;33m\u001b[0m\u001b[0m\n\u001b[0m",
      "\u001b[1;31mNameError\u001b[0m: name 'h' is not defined"
     ]
    }
   ],
   "source": [
    "plot_humans_zombies(h, z)"
   ]
  },
  {
   "cell_type": "markdown",
   "metadata": {},
   "source": [
    "**Answer:**"
   ]
  },
  {
   "cell_type": "markdown",
   "metadata": {},
   "source": [
    "### Question 2\n"
   ]
  },
  {
   "cell_type": "code",
   "execution_count": null,
   "metadata": {},
   "outputs": [],
   "source": [
    "h10, z10, r10 = record_humans_zombies_deads(100, 300, 10)"
   ]
  },
  {
   "cell_type": "code",
   "execution_count": null,
   "metadata": {},
   "outputs": [
    {
     "data": {
      "image/png": "[encoded data removed]",
      "text/plain": [
       "<Figure size 432x288 with 1 Axes>"
      ]
     },
     "metadata": {
      "needs_background": "light"
     },
     "output_type": "display_data"
    }
   ],
   "source": [
    "plot_humans_zombies(h10, z10)"
   ]
  },
  {
   "cell_type": "markdown",
   "metadata": {},
   "source": [
    "**Answer:**"
   ]
  },
  {
   "cell_type": "markdown",
   "metadata": {},
   "source": [
    "<!---->"
   ]
  },
  {
   "cell_type": "markdown",
   "metadata": {},
   "source": [
    "## Exercise 2: Compare random walk and ODE-based models"
   ]
  },
  {
   "cell_type": "code",
   "execution_count": null,
   "metadata": {},
   "outputs": [],
   "source": [
    "class ODE:\n",
    "    def __init__(\n",
    "            self,\n",
    "            N,\n",
    "            Z_init,\n",
    "            Sn,\n",
    "            Zn,\n",
    "            Rn,\n",
    "            time = 300\n",
    "            ):\n",
    "\n",
    "        self.time = np.arange(time)\n",
    "\n",
    "        self.N = N\n",
    "        self.Z_init = Z_init\n",
    "\n",
    "        self.Zn = Zn[:, 1:]\n",
    "\n",
    "        self.Sn = Sn[:, 1:]\n",
    "        self.Sn_1 = Sn[:, :-1]\n",
    "\n",
    "        self.Rn = Rn[:, 1:]\n",
    "        self.Rn_1 = Rn[:, :-1]\n",
    "\n",
    "        self.beta = - ((self.Sn - self.Sn_1)*self.N) / ((self.Sn+1)*self.Zn)\n",
    "        self.betamedian = np.median(self.beta) # median for the beta\n",
    "        self.betamean = np.mean(self.beta) # mean for the beta\n",
    "\n",
    "        self.tau = (self.Rn - self.Rn_1)/(self.Zn)\n",
    "        self.taumean = np.mean(self.tau) # mean for the tau\n",
    "\n",
    "\n",
    "    def Z(self, t):\n",
    "        S0 = self.N - self.Z_init\n",
    "        Z0 = self.Z_init\n",
    "\n",
    "        return self.N / (1 + (S0/Z0)*np.exp(-self.betamean*t))\n",
    "\n",
    "    def dR(self, t):\n",
    "        return (1/self.taumean + 1) * self.Z(t)\n",
    "\n",
    "    def plot(self):\n",
    "        plt.plot(self.time, self.Z(self.time), label = \"Zombies - ODE\")\n",
    "        plt.plot(self.time, self.N / (1 + ((self.N - self.Z_init)/self.Z_init)*np.exp(-0.03854905883052674*self.time)), label = \"Zombies - ODE, Beta = 0.038549058830526744\")\n",
    "        plt.plot(self.time, self.N / (1 + ((self.N - self.Z_init)/self.Z_init)*np.exp(-0.04*self.time)), label = \"Zombies - ODE, Beta = 0.04\")\n",
    "        plt.plot(self.time, self.N / (1 + ((self.N - self.Z_init)/self.Z_init)*np.exp(-0.05*self.time)), label = \"Zombies - ODE, Beta = 0.05\")\n",
    "        #plt.plot(self.time, self.N / (1 + ((self.N - self.Z_init)/self.Z_init)*np.exp(-0.055*self.time)), label = \"Zombies - ODE, Beta = 0.055\")\n",
    "        plt.plot(self.time, self.N / (1 + ((self.N - self.Z_init)/self.Z_init)*np.exp(-0.072603571734108*self.time)), label = \"Zombies - ODE, Beta = 0.072603571734108\")\n",
    "        plt.plot(self.time, self.N / (1 + ((self.N - self.Z_init)/self.Z_init)*np.exp(-0.07819904557342489*self.time)), label = \"Zombies - ODE, Beta = 0.07819904557342489\")\n",
    "\n",
    "    def plot_R(self):\n",
    "        plt.plot(self.time, self.dR(self.time), label = \"Dead - ODE\")\n",
    "\n",
    "    def print_betamean(self):\n",
    "        return self.betamean\n",
    "\n",
    "    def print_beta(self):\n",
    "        return self.beta\n",
    "\n",
    "    def print_betamedian(self):\n",
    "        return self.betamedian"
   ]
  },
  {
   "cell_type": "code",
   "execution_count": null,
   "metadata": {},
   "outputs": [
    {
     "data": {
      "image/png": "[encoded data removed]",
      "text/plain": [
       "<Figure size 432x288 with 1 Axes>"
      ]
     },
     "metadata": {
      "needs_background": "light"
     },
     "output_type": "display_data"
    }
   ],
   "source": [
    "zx_10 = np.arange(np.shape(z10)[1])\n",
    "zmean_10 = np.mean(z10, 0) # Mean\n",
    "\n",
    "ode = ODE(683, 10, h10, z10, r10)\n",
    "plt.plot(zx_10, zmean_10, color = \"red\", linestyle = \"--\", label = \"Zombies - Random Walk\") # plot the random walk\n",
    "ode.plot() # plot the analytical\n",
    "plt.legend()\n",
    "plt.grid()"
   ]
  },
  {
   "cell_type": "code",
   "execution_count": null,
   "metadata": {},
   "outputs": [
    {
     "name": "stdout",
     "output_type": "stream",
     "text": [
      "0.03754905883052674\n",
      "0.0\n",
      "(100, 299)\n"
     ]
    },
    {
     "data": {
      "image/png": "[encoded data removed]",
      "text/plain": [
       "<Figure size 432x288 with 1 Axes>"
      ]
     },
     "metadata": {
      "needs_background": "light"
     },
     "output_type": "display_data"
    },
    {
     "name": "stdout",
     "output_type": "stream",
     "text": [
      "mean of betas between 1:240=0.04388151751226949\n",
      "mean of betas between 40:60=0.05454539208788384\n",
      "mean of betas between 0:75=0.072603571734108\n",
      "mean of betas between 0:60=0.07819904557342489\n"
     ]
    }
   ],
   "source": [
    "print(ode.print_betamean())\n",
    "print(ode.print_betamedian())\n",
    "#print(ode.print_beta())\n",
    "\n",
    "print(np.shape(ode.print_beta()))\n",
    "np.arange(100)\n",
    "\n",
    "#plt.plot(np.arange(100), ode.print_beta())\n",
    "plt.plot(np.arange(299), ode.print_beta()[1,:])\n",
    "plt.title(\"10-Zombie Betas for 300 timesteps in one iteration\")\n",
    "plt.show()\n",
    "\n",
    "\n",
    "print(f\"mean of betas between 1:240={np.mean(ode.print_beta()[:,0:240])}\")\n",
    "\n",
    "print(f\"mean of betas between 40:60={np.mean(ode.print_beta()[:,40:60])}\")\n",
    "\n",
    "print(f\"mean of betas between 0:75={np.mean(ode.print_beta()[:,0:75])}\")\n",
    "\n",
    "print(f\"mean of betas between 0:60={np.mean(ode.print_beta()[:,0:60])}\")\n",
    "\n",
    "#print(ode.print_beta())"
   ]
  },
  {
   "cell_type": "code",
   "execution_count": null,
   "metadata": {},
   "outputs": [
    {
     "name": "stdout",
     "output_type": "stream",
     "text": [
      "[0.1998528475155303, 0.17456868011119808, 0.16429131841673722, 0.15628549433617156, 0.14604008809834537, 0.13979757996451217, 0.13641874241127436, 0.13173752097961955, 0.12842238159165045, 0.12556345866275043, 0.12272547155042998, 0.11979797148500339, 0.11837773879816196, 0.11691375400432136, 0.11544039652836136, 0.11379183609565573, 0.11233512742534159, 0.11107008597837308, 0.10982078864016873, 0.10878836434317554, 0.10733974741120689, 0.10610780171395268, 0.10496786884474679, 0.10378716899894586, 0.10280860921039807, 0.10167335998070338, 0.10067070078979241, 0.09961779365998101, 0.09872370394016085, 0.09770008776926682, 0.09681998038240133, 0.09604646226961909, 0.09519028879278527, 0.09436006532001673, 0.0936561658173445, 0.09283341020444709, 0.0921771011662034, 0.09143830135290994, 0.09070378944465614, 0.09002587231619544, 0.08925711007303243, 0.08851112212771291, 0.08778844135433564, 0.0870755586825761, 0.08641302542909945, 0.08574296708315886, 0.08513950136771234, 0.08464604212337662, 0.08404669133495002, 0.08349205738976918, 0.08295579657963342, 0.08236778806005203, 0.08176152227270982, 0.08120739677482022, 0.08068516199727092, 0.0801466285419946, 0.07967264627941607, 0.07918834919811044, 0.07871107739507968, 0.07819904557342489, 0.07777472341135504, 0.07737326743561593, 0.0769150371147598, 0.07640619688287184, 0.07601257641712107, 0.07565142202754141, 0.07526902544044789, 0.07491370267657765, 0.07462674620557662, 0.07425485743858651, 0.07391242326317594, 0.0736075893501314, 0.07330625528255322, 0.07296205535043779, 0.072603571734108, 0.07229954767635799, 0.07199766241995104, 0.07162570699344682, 0.07128912116168193, 0.07099562132093439, 0.0706948648145631, 0.07037618127091766, 0.07005826275103058, 0.06975584107860704, 0.06948774948900824, 0.0692430905371286, 0.06903274204116723, 0.06878333126755194, 0.0684887770603906, 0.06831623843295563, 0.06805445342515816, 0.06780524376556984, 0.06751455847609873, 0.06735273249961184, 0.06717015257172039, 0.06685809550084444, 0.06662844396849775, 0.06639642605965361, 0.06623694379136917, 0.06601164858399627, 0.06580994731600885, 0.06558871192619924, 0.0653411338444274, 0.06516211344831536, 0.06496500900342021, 0.0646907245155221, 0.06449365876249624, 0.0642093528406066, 0.06402883271475386, 0.06378741769380261, 0.06355165124390852, 0.0633326946977886, 0.06307794025330841, 0.06289536794758087, 0.06269436555328763, 0.0624636296212036, 0.062307322251213146, 0.06207839418614253, 0.06189769363281389, 0.061670599429930764, 0.061473268453034025, 0.06126275448541912, 0.06111167618620594, 0.060853744942127905, 0.060586713303647906, 0.06035083251384576, 0.060062144362380575, 0.05983227892623941, 0.059612682776266926, 0.05944977449654365, 0.05917002773849628, 0.05890382365543438, 0.05865982494357114, 0.05844845542722147, 0.05817893776845745, 0.0578920711285409, 0.05766773862671815, 0.05749385901933124, 0.05724812369694427, 0.05697016177789535, 0.05681861118932049, 0.05658439822373022, 0.05634425968585782, 0.05609870949028903, 0.05590878594016511, 0.05574156373151547, 0.055531058522766824, 0.05528229259412815, 0.05507220893704625, 0.054868565816777876, 0.05465743319462971, 0.054500756987760496, 0.05434015009703829, 0.05416988210340343, 0.05390222499661206, 0.05367224172838041, 0.053405057144632076, 0.053267093159442246, 0.053033669930628434, 0.05278688406688911, 0.05258027253937132, 0.05234496833885023, 0.05214478404017795, 0.05193065706182395, 0.05169401767895081, 0.05145941829081313, 0.05128056403231479, 0.051045256137749996, 0.050850107595935015, 0.05067764015542162, 0.050491277455767494, 0.05028631561713815, 0.05007021486181336, 0.04984330038912472, 0.04963547538624281, 0.04951143678448708, 0.049313640334583735, 0.04912641115780022, 0.04895698360868918, 0.048737470307269, 0.04854038271233034, 0.048345688000853294, 0.04817518617322961, 0.04812969705619164, 0.0479691374903575, 0.04785124022792538, 0.04770146607273648, 0.04750449654942877, 0.047352618835186835, 0.04719891583263969, 0.04704032013932603, 0.04687612131063505, 0.046838961411159626, 0.04671072379100444, 0.04655687265886741, 0.0464336075566894, 0.046258714760299566, 0.04612201068803646, 0.045965064720754865, 0.04583300716907889, 0.045685759431818636, 0.04560426781996862, 0.04550866157548282, 0.045378034427624156, 0.04527700292052297, 0.04521919098061713, 0.04510620132778154, 0.04498734572229994, 0.044867539282075514, 0.044788188956750456, 0.044702635001789275, 0.04461887393322706, 0.04460888919027915, 0.0445526402279761, 0.04445332960820338, 0.04439980299654348, 0.0442818932057327, 0.0443086020287287, 0.044193127252769755, 0.04424029740892274, 0.04418892811999316, 0.044207199965241285, 0.04414580526014614, 0.044236063934639545, 0.04417694825050816, 0.04418094757812691, 0.04405171182466465, 0.04408676299270848, 0.04413834124864656, 0.04415105797418688, 0.044100138593598355, 0.04409491354982251, 0.04400227885395103, 0.04396929876449773, 0.043991670537119776, 0.04401737853813812, 0.043870921947809276, 0.04379114936699247, 0.043778952972544104, 0.04388151751226949, 0.04380338444853785, 0.04395995549253308, 0.043888930607681835, 0.043942802925549106, 0.043899658621247846, 0.04380938999715896, 0.04369278247238625, 0.043758537381771774, 0.04372345086270804, 0.04370855705925721, 0.04357426001918048, 0.04350058173092301, 0.04340769405609724, 0.043276167701545666, 0.04314567292624549, 0.04305526014137734, 0.04294612423179338, 0.042954113406779834, 0.04278826740907026, 0.042623697149804594, 0.04249870214156781, 0.042336493354767926, 0.04219455737767109, 0.042034729508816274, 0.04191384373708489, 0.04175627289596803, 0.041637335544297736, 0.04151928578480409, 0.04143928843987917, 0.04132284663084258, 0.04120726417095017, 0.04109253158208639, 0.04094200948837911, 0.04082908244645072, 0.04068061305573635, 0.04053321953017209, 0.04042299130082129, 0.04027758485729315, 0.04016906304776881, 0.040025602108312484, 0.03988316224315835, 0.03974173258981382, 0.03963663812836571, 0.039497072501153155, 0.03935848628185087, 0.039255834231914324, 0.03911905432169859, 0.03898322427197047, 0.03884833422258648, 0.03871437444940516, 0.03858133536195016, 0.03844920750112156, 0.03831798153695391, 0.03818764826642006, 0.038058198611279646, 0.03792962361597127, 0.037801914445547126, 0.037675062383649316, 0.03754905883052674]\n",
      "0.04418094757812691\n",
      "0.04405171182466465\n",
      "0.04408676299270848\n",
      "0.04413834124864656\n",
      "0.04415105797418688\n",
      "0.044100138593598355\n",
      "0.04409491354982251\n",
      "0.04400227885395103\n",
      "0.04396929876449773\n",
      "0.043991670537119776\n",
      "0.04401737853813812\n",
      "0.043870921947809276\n",
      "0.04379114936699247\n",
      "0.043778952972544104\n",
      "0.04388151751226949\n",
      "0.04380338444853785\n",
      "0.04395995549253308\n",
      "0.043888930607681835\n",
      "0.043942802925549106\n",
      "0.043899658621247846\n",
      "0.04380938999715896\n",
      "0.04369278247238625\n",
      "0.043758537381771774\n",
      "0.04372345086270804\n",
      "0.04370855705925721\n"
     ]
    },
    {
     "data": {
      "image/png": "[encoded data removed]",
      "text/plain": [
       "<Figure size 432x288 with 1 Axes>"
      ]
     },
     "metadata": {
      "needs_background": "light"
     },
     "output_type": "display_data"
    }
   ],
   "source": [
    "betameans = []\n",
    "for i in range(299):\n",
    "    #print(np.mean(ode.print_beta()[:,0:i+1]))\n",
    "    betameans.append(np.mean(ode.print_beta()[:,0:i+1]))\n",
    "print(betameans)\n",
    "#print(np.arange(299))\n",
    "plt.plot(np.arange(299),betameans)\n",
    "for i in range(225, 250):\n",
    "    print(betameans[i])"
   ]
  },
  {
   "cell_type": "code",
   "execution_count": null,
   "metadata": {},
   "outputs": [
    {
     "name": "stdout",
     "output_type": "stream",
     "text": [
      "[0.16939484126984128, 0.16939484126984128, 0.16939484126984128, 0.1542921686746988, 0.14068937105190882, 0.13014965606990148, 0.1278068862275449, 0.12361990950226244, 0.12027294739159146, 0.11550820226619313, 0.1129058992168269, 0.10811238622872972, 0.10799143923176419, 0.1059854159729427, 0.10391309639727361, 0.10286144578313253, 0.10122017487526552, 0.09911838333998477, 0.09820743865030675, 0.09710532302092811, 0.09555387671731162, 0.09483476811996668, 0.09308981872700013, 0.0922598946373092, 0.0922598946373092, 0.09125221283275994, 0.0904086980520607, 0.08970023785376219, 0.08851203043184692, 0.08695320059072159, 0.08618296529968454, 0.08568023584018064, 0.08469742063492064, 0.08417895731481861, 0.08346912172071044, 0.08291350531107738, 0.08218222072483997, 0.08145497912939774, 0.08039086233972531, 0.07968421871354125, 0.07904388916912283, 0.07831083740753217, 0.0778387900969883, 0.07738646020205835, 0.07663967708530989, 0.07601652156707558, 0.07541197795423388, 0.07482774480791575, 0.07436846689895471, 0.07379538479218406, 0.07281449893390192, 0.07257314599807664, 0.07191366148986575, 0.07138686298668787, 0.07084327351934447, 0.07046473877866924, 0.0701780569049825, 0.06994869063834581, 0.06962283384301733, 0.06894187474825422, 0.0684221824686941, 0.0680562353926416, 0.06748011658351034, 0.06707092533441189, 0.06678773616397998, 0.06638026712670303, 0.06599990352171152, 0.06569432421325079, 0.06536510670877596, 0.06507240853658537, 0.06484970357462266, 0.06461378364315784, 0.06446436998584237, 0.06429528543464513, 0.06407129455909943, 0.06363737114481191, 0.06328542142021566, 0.06277934164416614, 0.06244530647963115, 0.06210292211728234, 0.06180890597527376, 0.061455772836678496, 0.06125148532609914, 0.06088768539876754, 0.06050911524983266, 0.06023458858805891, 0.06012985656620773, 0.05994435619059321, 0.05974554394671287, 0.05954405693901492, 0.05935440987587082, 0.059014976958525346, 0.05886803294388048, 0.058788087450507835, 0.05862772912356182, 0.05852212359049937, 0.05847602739726027, 0.05840414729303618, 0.05834225090856593, 0.05796381707003591, 0.05752755450738798, 0.05731699412001232, 0.05709605923947522, 0.05702528625954199, 0.05677944966331366, 0.05644006238636022, 0.05611930487654575, 0.05581531482798059, 0.05560379918588874, 0.055374743742688706, 0.05516963419237701, 0.05474785327094376, 0.054501100053577736, 0.05430331941959849, 0.0540840163970918, 0.053976225352358645, 0.053798354629791705, 0.05352664576802508, 0.05330606893106893, 0.05313245513950835, 0.053027950310559006, 0.05292686328905972, 0.05279079716499216, 0.052600165578852116, 0.05237328425734223, 0.05217192035443296, 0.051815043811402346, 0.051638104838709675, 0.051442343902990136, 0.051408141504108384, 0.0509258108611905, 0.05066013944518617, 0.05040035789542109, 0.05012991207081309, 0.04972924848426322, 0.04955919166999238, 0.04926072845293906, 0.04905551964375494, 0.04905551964375494, 0.04882557189542484, 0.04857199749672868, 0.04828902714932127, 0.048053470919324576, 0.04785426519530566, 0.047656070891022, 0.04750147790103279, 0.04728420236333673, 0.04707855616570549, 0.04689645701730294, 0.04689645701730294, 0.04677681739615801, 0.04671522861735235, 0.046544909363500066, 0.04624177103706456, 0.04566576404907565, 0.04540360873694207, 0.04507953270411194, 0.044925343682167995, 0.04486358433556709, 0.04465588472377566, 0.04434297091412742, 0.04390941811010396, 0.04377403405969603, 0.04345531127645623, 0.04326125235941677, 0.04311868686868687, 0.04295394871311101, 0.04263420724094882, 0.04233810068752471, 0.04221512441507881, 0.04195074012652786, 0.041617581346224154, 0.041458514245407266, 0.04145675265553869, 0.04116937914406269, 0.04100237558210337, 0.04088456374691078, 0.0406547619047619, 0.040212898743567704, 0.039922843114332474, 0.039854316618763375, 0.039485474779592425, 0.03923708852760384, 0.03892935718112696, 0.03862537819674044, 0.03850273408873105, 0.038327721661055, 0.03815908932188002, 0.03777863819901543, 0.03762118096357227, 0.03727962447464658, 0.037184233449477355, 0.03695887445887446, 0.036526716113380875, 0.036266898888098295, 0.035956830744932874, 0.03594453069494514, 0.03568194483142937, 0.0354144446423751, 0.03521723033137297, 0.03507960965588084, 0.03491552283822815, 0.034804618163045316, 0.03441239942201932, 0.033950540574127004, 0.03374005829175517, 0.0334631708970925, 0.033019495038615405, 0.032735812883435585, 0.032451694646816596, 0.03198364135864136, 0.031792580179676955, 0.03155785902799241, 0.031155672486936764, 0.03090497737556561, 0.030756067906515965, 0.030398789389353746, 0.030068236847897865, 0.02990695128626163, 0.02960195554939149, 0.02943889382171151, 0.029278120713305898, 0.029203259819221988, 0.028791029676258992, 0.02853084924182297, 0.027967160084351902, 0.027671987683331983, 0.02719382067208154, 0.02695901873908367, 0.026513975155279503, 0.0261356921922823, 0.025907521905701173, 0.025347149778200462, 0.025200178947710546, 0.024836262136563623, 0.02458792559768931, 0.024205266328808876, 0.02382890635902684, 0.023636489479512735, 0.023429928904059073, 0.023272454681750033, 0.022813053208189986, 0.0223729035639413, 0.021950827575124537, 0.021545741324921135, 0.02113114888880429, 0.020584689572031346, 0.020076425631981188, 0.019424931801438547, 0.019050718237180977, 0.018559278280481508, 0.018212012102608442, 0.017900994766090573, 0.017525552751999317, 0.016975270287063502, 0.01630538579067991, 0.015692852055235164, 0.014952329958512126, 0.014134933774834437, 0.01339808791436462, 0.01263317549570879, 0.012030846541760365, 0.011599273134860656, 0.010158399643043058, 0.008588923046547153, 0.007119106932530045, 0.0, 0.0, 0.0, 0.0, 0.0, 0.0, 0.0, 0.0, 0.0, 0.0, 0.0, 0.0, 0.0, 0.0, 0.0, 0.0, 0.0, 0.0, 0.0, 0.0, 0.0, 0.0, 0.0, 0.0, 0.0, 0.0, 0.0, 0.0, 0.0, 0.0, 0.0, 0.0, 0.0]\n",
      "0.027967160084351902\n",
      "0.027671987683331983\n",
      "0.02719382067208154\n",
      "0.02695901873908367\n",
      "0.026513975155279503\n",
      "0.0261356921922823\n",
      "0.025907521905701173\n",
      "0.025347149778200462\n",
      "0.025200178947710546\n",
      "0.024836262136563623\n",
      "0.02458792559768931\n",
      "0.024205266328808876\n",
      "0.02382890635902684\n",
      "0.023636489479512735\n",
      "0.023429928904059073\n",
      "0.023272454681750033\n",
      "0.022813053208189986\n",
      "0.0223729035639413\n",
      "0.021950827575124537\n",
      "0.021545741324921135\n",
      "0.02113114888880429\n",
      "0.020584689572031346\n",
      "0.020076425631981188\n",
      "0.019424931801438547\n",
      "0.019050718237180977\n",
      "mean of medians=0.04827334988657168\n",
      "mean of medians 1:260=0.05527539188957877\n"
     ]
    },
    {
     "data": {
      "image/png": "[encoded data removed]",
      "text/plain": [
       "<Figure size 432x288 with 1 Axes>"
      ]
     },
     "metadata": {
      "needs_background": "light"
     },
     "output_type": "display_data"
    }
   ],
   "source": [
    "betamedians = []\n",
    "for i in range(299):\n",
    "    #print(np.mean(ode.print_beta()[:,0:i+1]))\n",
    "    betamedians.append(np.median(ode.print_beta()[:,0:i+1]))\n",
    "print(betamedians)\n",
    "#print(np.arange(299))\n",
    "plt.plot(np.arange(299),betamedians)\n",
    "for i in range(225, 250):\n",
    "    print(betamedians[i])\n",
    "print(f\"mean of medians={np.mean(betamedians)}\")\n",
    "print(f\"mean of medians 1:260={np.mean(betamedians[:260])}\")"
   ]
  },
  {
   "cell_type": "markdown",
   "metadata": {},
   "source": [
    "### Question 1\n",
    "\n",
    "**Answer:**"
   ]
  },
  {
   "cell_type": "markdown",
   "metadata": {},
   "source": [
    "## Exercise 3: Scenario what happens in Sokndal and Dirdal?"
   ]
  },
  {
   "cell_type": "markdown",
   "metadata": {},
   "source": [
    "Check the class"
   ]
  },
  {
   "cell_type": "markdown",
   "metadata": {},
   "source": [
    "**Sokndal**"
   ]
  },
  {
   "cell_type": "code",
   "execution_count": null,
   "metadata": {},
   "outputs": [
    {
     "name": "stdout",
     "output_type": "stream",
     "text": [
      "Susceptibles: 507\n",
      "Infectious: 0\n",
      "Recovered: 176\n"
     ]
    }
   ],
   "source": [
    "sokndal = RandomWalkEpidemicSimulator(683, 10, p=1/24)\n",
    "sokndal.run(48)\n",
    "sokndal.stats()"
   ]
  },
  {
   "cell_type": "markdown",
   "metadata": {},
   "source": [
    "**Dirdal**"
   ]
  },
  {
   "cell_type": "code",
   "execution_count": null,
   "metadata": {},
   "outputs": [
    {
     "name": "stdout",
     "output_type": "stream",
     "text": [
      "Susceptibles: 609\n",
      "Infectious: 0\n",
      "Recovered: 74\n"
     ]
    }
   ],
   "source": [
    "dirdal = RandomWalkEpidemicSimulator(683, 10, p=1/48)\n",
    "dirdal.run(48)\n",
    "dirdal.stats()"
   ]
  },
  {
   "cell_type": "code",
   "execution_count": null,
   "metadata": {},
   "outputs": [],
   "source": [
    "case_one_zombie = RandomWalkEpidemicSimulator(683, 1, p=0.0)"
   ]
  },
  {
   "cell_type": "code",
   "execution_count": 102,
   "metadata": {},
   "outputs": [
    {
     "data": {
      "text/plain": [
       "[<matplotlib.lines.Line2D at 0x2ad60fbae50>]"
      ]
     },
     "execution_count": 102,
     "metadata": {},
     "output_type": "execute_result"
    },
    {
     "data": {
      "image/png": "[encoded data removed]",
      "text/plain": [
       "<Figure size 432x288 with 1 Axes>"
      ]
     },
     "metadata": {
      "needs_background": "light"
     },
     "output_type": "display_data"
    }
   ],
   "source": [
    "h1, z1, d1 = record_humans_zombies_deads(1, 300, 1, p=0.0)\n",
    "h1s, z1s, d1s = record_humans_zombies_deads(1, 300, 1, p=1/24)\n",
    "h1d, z1d, d1d = record_humans_zombies_deads(1, 300, 1, p=1/48)\n",
    "#h10, z10, d10 = record_humans_zombies_deads(1, 300, 10, p=0.0)\n",
    "\n",
    "plt.plot(np.arange(300), h1[0], c=\"r\", ls=\"-\")\n",
    "plt.plot(np.arange(300), z1[0], c=\"g\", ls=\"-\")\n",
    "plt.plot(np.arange(300), d1[0], c=\"b\", ls=\"-\")\n",
    "plt.plot(np.arange(300), h1s[0], c=\"r\", ls=\"--\")\n",
    "plt.plot(np.arange(300), z1s[0], c=\"g\", ls=\"--\")\n",
    "plt.plot(np.arange(300), d1s[0], c=\"b\", ls=\"--\")\n",
    "plt.plot(np.arange(300), h1d[0], c=\"r\", ls=\":\")\n",
    "plt.plot(np.arange(300), z1d[0], c=\"g\", ls=\":\")\n",
    "plt.plot(np.arange(300), d1d[0], c=\"b\", ls=\":\")\n",
    "#plt.plot(np.arange(300), h10[0], c=\"r\")\n",
    "#plt.plot(np.arange(300), z10[0], c=\"g\")\n",
    "#plt.plot(np.arange(300), d10[0], c=\"b\")"
   ]
  },
  {
   "cell_type": "code",
   "execution_count": null,
   "metadata": {},
   "outputs": [
    {
     "data": {
      "text/plain": [
       "(300,)"
      ]
     },
     "execution_count": 23,
     "metadata": {},
     "output_type": "execute_result"
    }
   ],
   "source": [
    "np.shape(np.arange(300))"
   ]
  },
  {
   "cell_type": "code",
   "execution_count": null,
   "metadata": {},
   "outputs": [
    {
     "data": {
      "text/plain": [
       "(300,)"
      ]
     },
     "execution_count": 24,
     "metadata": {},
     "output_type": "execute_result"
    }
   ],
   "source": [
    "np.shape(h1[0])"
   ]
  },
  {
   "cell_type": "markdown",
   "metadata": {},
   "source": [
    "### Question 1"
   ]
  },
  {
   "cell_type": "markdown",
   "metadata": {},
   "source": [
    "\n",
    "**Answer:**"
   ]
  },
  {
   "cell_type": "markdown",
   "metadata": {},
   "source": [
    "### Question 2\n"
   ]
  },
  {
   "cell_type": "markdown",
   "metadata": {},
   "source": [
    "**Answer:**"
   ]
  },
  {
   "cell_type": "markdown",
   "metadata": {},
   "source": [
    "## Exercise 4: Compare your results with SZR model"
   ]
  },
  {
   "cell_type": "code",
   "execution_count": 95,
   "metadata": {},
   "outputs": [],
   "source": [
    "def plot_humans_zombies_deads(record_humans, record_zombies, record_deads):\n",
    "    hx = np.arange(np.shape(record_humans)[1])\n",
    "    hmean = np.mean(record_humans, 0) # Mean\n",
    "    hstd = np.std(record_humans, 0) # Standard Deviation\n",
    "\n",
    "    zx = np.arange(np.shape(record_zombies)[1])\n",
    "    zmean = np.mean(record_zombies, 0) # Mean\n",
    "    zstd = np.std(record_zombies, 0) # Standard Deviation\n",
    "\n",
    "    rx = np.arange(np.shape(record_deads)[1])\n",
    "    rmean = np.mean(record_deads, 0) # Mean\n",
    "    rstd = np.std(record_deads, 0) # Standard Deviation\n",
    "\n",
    "    plt.title(f\"\")\n",
    "\n",
    "    plt.plot(hx, hmean, color = \"blue\", linestyle = \"--\", label = \"Susceptible - RW\") # plot the mean\n",
    "    plt.fill_between(hx, hmean - hstd, hmean + hstd, color='grey', alpha=0.5)\n",
    "\n",
    "    plt.plot(zx, zmean, color = \"red\", linestyle = \"--\", label = \"Infected - RW\") # plot the mean\n",
    "    plt.fill_between(zx, zmean - zstd, zmean + zstd, color='grey', alpha=0.5)\n",
    "    \n",
    "    plt.plot(rx, rmean, color = \"green\", linestyle = \"--\", label = \"Recovered - RW\") # plot the mean\n",
    "    plt.fill_between(rx, rmean - rstd, rmean + rstd, color='grey', alpha=0.5)\n"
   ]
  },
  {
   "cell_type": "code",
   "execution_count": 125,
   "metadata": {},
   "outputs": [],
   "source": [
    "h4, z4, r4 = record_humans_zombies_deads(3, 1000, 1, 1/24)"
   ]
  },
  {
   "cell_type": "code",
   "execution_count": 126,
   "metadata": {},
   "outputs": [
    {
     "data": {
      "image/png": "[encoded data removed]",
      "text/plain": [
       "<Figure size 432x288 with 1 Axes>"
      ]
     },
     "metadata": {
      "needs_background": "light"
     },
     "output_type": "display_data"
    }
   ],
   "source": [
    "plot_humans_zombies_deads(h4, z4, r4)\n",
    "plt.legend()\n",
    "plt.grid()"
   ]
  },
  {
   "cell_type": "code",
   "execution_count": null,
   "metadata": {},
   "outputs": [
    {
     "name": "stderr",
     "output_type": "stream",
     "text": [
      "C:\\Users\\Jason\\AppData\\Local\\Temp/ipykernel_11020/1382847127.py:40: RuntimeWarning: divide by zero encountered in scalar divide\n",
      "  return (1/self.taumean + 1) * self.Z(t)\n"
     ]
    },
    {
     "data": {
      "image/png": "[encoded data removed]",
      "text/plain": [
       "<Figure size 432x288 with 1 Axes>"
      ]
     },
     "metadata": {
      "needs_background": "light"
     },
     "output_type": "display_data"
    }
   ],
   "source": [
    "hx_10 = np.arange(np.shape(h10)[1])\n",
    "hmean_10 = np.mean(h10, 0) # Mean\n",
    "\n",
    "ode = ODE(683, 10, h10, z10, r10)\n",
    "#plt.plot(hx_10, hmean_10, color = \"red\", linestyle = \"--\", label = \"Humans - Random Walk\") # plot the random walk\n",
    "ode.plot_R() # plot the analytical\n",
    "plt.legend()\n",
    "plt.grid()\n"
   ]
  },
  {
   "cell_type": "code",
   "execution_count": null,
   "metadata": {},
   "outputs": [
    {
     "data": {
      "text/plain": [
       "array([[0., 0., 0., ..., 0., 0., 0.],\n",
       "       [0., 0., 0., ..., 0., 0., 0.],\n",
       "       [0., 0., 0., ..., 0., 0., 0.],\n",
       "       ...,\n",
       "       [0., 0., 0., ..., 0., 0., 0.],\n",
       "       [0., 0., 0., ..., 0., 0., 0.],\n",
       "       [0., 0., 0., ..., 0., 0., 0.]])"
      ]
     },
     "execution_count": 19,
     "metadata": {},
     "output_type": "execute_result"
    }
   ],
   "source": [
    "ode.tau"
   ]
  },
  {
   "cell_type": "markdown",
   "metadata": {},
   "source": [
    "## Exercise 5: Implement your own scenario"
   ]
  },
  {
   "cell_type": "markdown",
   "metadata": {},
   "source": [
    "We decided to create a diferent file that will be dedicated to the own scenario. This decision was made because it does not affect the original Random Walk Class.\n",
    "[Random Walk Dead - Own Scenario](RWD.ipynb)"
   ]
  },
  {
   "cell_type": "markdown",
   "metadata": {},
   "source": [
    "## Reflections\n",
    "\n",
    "### How did we work?\n",
    "Basically, we worked on project in the group room, alongside with the lab classes which helped us a lot to discuss about the problems as well as finding the solution. We worked together even if any of us find any solution then we discussed about this and then came to a proper solution which looked like a good way of learning for us. Before finalizing any problem's solution, we together ended up with a good solution and agreed upon that.\n",
    "\n",
    "Jason created some initial coding and worked on finding the solutions to the problem in theoretical matter. Taz and Tapas worked also on the theorectical matter proofs final Python code. Mussa wrote large sections of Python code and acted as Project Manager by compiling the individual contributions into a final product.\n",
    "\n",
    "\n",
    "### What we did in the project?\n",
    "We evaluated the analtical, numerical and line-source solution with two different boundary conditions and also found out the error between them by visuallizing the graphs. Then we matched our well test data from the provided file.\n",
    "\n",
    "### Our Learnings?\n",
    "We learnt the implementation of different numerical solvers for the radial deffusivity equation. We also learnt about PressureSolver Class. Besides, we also came across the learning of using two different boundary conditions. Although we did struggle in some stages but this project will help us in near future.future."
   ]
  },
  {
   "cell_type": "markdown",
   "metadata": {},
   "source": [
    "\n",
    "## Conclusion\n",
    "\n"
   ]
  },
  {
   "cell_type": "markdown",
   "metadata": {},
   "source": [
    "## References\n",
    "\n",
    "1) Aksel Hiorth. Computational Engineering and Modeling, 2021\n",
    "   https://github.com/ahiorth/CompEngineering"
   ]
  }
 ],
 "metadata": {
  "kernelspec": {
   "display_name": "MOD510",
   "language": "python",
   "name": "python3"
  },
  "language_info": {
   "codemirror_mode": {
    "name": "ipython",
    "version": 3
   },
   "file_extension": ".py",
   "mimetype": "text/x-python",
   "name": "python",
   "nbconvert_exporter": "python",
   "pygments_lexer": "ipython3",
   "version": "3.9.6"
  },
  "orig_nbformat": 4
 },
 "nbformat": 4,
 "nbformat_minor": 2
}
